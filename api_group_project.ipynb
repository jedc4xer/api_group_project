{
 "cells": [
  {
   "cell_type": "markdown",
   "id": "1a04650b-13bd-46c3-b7e3-9be60aeec5af",
   "metadata": {},
   "source": [
    "# Data Classes and WebScraping Group Exercise (Group 1)\n",
    "#### Import Modules"
   ]
  },
  {
   "cell_type": "code",
   "execution_count": 1,
   "id": "df466cef-cee8-4fde-8222-4f95cafa1ddf",
   "metadata": {},
   "outputs": [],
   "source": [
    "import requests\n",
    "from dataclasses import dataclass, field"
   ]
  },
  {
   "cell_type": "markdown",
   "id": "60b6dd92-91e8-4c02-bc3e-fd0c0185a9d6",
   "metadata": {},
   "source": [
    "#### Build Classes (Just displaying 1 for clarity)"
   ]
  },
  {
   "cell_type": "code",
   "execution_count": 2,
   "id": "f0efbbf8-4835-4c88-aeba-cee9d73993d7",
   "metadata": {},
   "outputs": [],
   "source": [
    "@dataclass    \n",
    "class Bird:\n",
    "    name: str\n",
    "    latin_name: str\n",
    "    active_time: str\n",
    "    length_min: float = field(metadata={\"units\":\"feet\"})\n",
    "    length_max: float = field(metadata={\"units\":\"feet\"})\n",
    "    weight_min: float = field(metadata={\"units\":\"lbs\"})\n",
    "    weight_max: float = field(metadata={\"units\":\"lbs\"})\n",
    "    lifespan: float = field(metadata={\"units\":\"years\"})\n",
    "    habitat: str\n",
    "    diet: str\n",
    "    geo_range: str\n",
    "    image_link: str\n",
    "    id_: int"
   ]
  },
  {
   "cell_type": "markdown",
   "id": "be8dfbd6-ef73-4ce7-b499-f78b4f0dd0f9",
   "metadata": {},
   "source": [
    "#### Other Data Classes in minimized cell"
   ]
  },
  {
   "cell_type": "code",
   "execution_count": 3,
   "id": "24811c82-550d-4190-91fc-e0f917a0be90",
   "metadata": {
    "tags": []
   },
   "outputs": [],
   "source": [
    "@dataclass    \n",
    "class Reptile:\n",
    "    name: str\n",
    "    latin_name: str\n",
    "    active_time: str\n",
    "    length_min: float = field(metadata={\"units\":\"feet\"})\n",
    "    length_max: float = field(metadata={\"units\":\"feet\"})\n",
    "    weight_min: float = field(metadata={\"units\":\"lbs\"})\n",
    "    weight_max: float = field(metadata={\"units\":\"lbs\"})\n",
    "    lifespan: float = field(metadata={\"units\":\"years\"})\n",
    "    habitat: str\n",
    "    diet: str\n",
    "    geo_range: str\n",
    "    image_link: str\n",
    "    id_: int\n",
    "    \n",
    "@dataclass    \n",
    "class Mammal:\n",
    "    name: str\n",
    "    latin_name: str\n",
    "    active_time: str\n",
    "    length_min: float = field(metadata={\"units\":\"feet\"})\n",
    "    length_max: float = field(metadata={\"units\":\"feet\"})\n",
    "    weight_min: float = field(metadata={\"units\":\"lbs\"})\n",
    "    weight_max: float = field(metadata={\"units\":\"lbs\"})\n",
    "    lifespan: float = field(metadata={\"units\":\"years\"})\n",
    "    habitat: str\n",
    "    diet: str\n",
    "    geo_range: str\n",
    "    image_link: str\n",
    "    id_: int\n",
    "    \n",
    "@dataclass    \n",
    "class Marsupial:\n",
    "    name: str\n",
    "    latin_name: str\n",
    "    active_time: str\n",
    "    length_min: float = field(metadata={\"units\":\"feet\"})\n",
    "    length_max: float = field(metadata={\"units\":\"feet\"})\n",
    "    weight_min: float = field(metadata={\"units\":\"lbs\"})\n",
    "    weight_max: float = field(metadata={\"units\":\"lbs\"})\n",
    "    lifespan: float = field(metadata={\"units\":\"years\"})\n",
    "    habitat: str\n",
    "    diet: str\n",
    "    geo_range: str\n",
    "    image_link: str\n",
    "    id_: int\n",
    "    \n",
    "@dataclass    \n",
    "class Amphibian:\n",
    "    name: str\n",
    "    latin_name: str\n",
    "    active_time: str\n",
    "    length_min: float = field(metadata={\"units\":\"feet\"})\n",
    "    length_max: float = field(metadata={\"units\":\"feet\"})\n",
    "    weight_min: float = field(metadata={\"units\":\"lbs\"})\n",
    "    weight_max: float = field(metadata={\"units\":\"lbs\"})\n",
    "    lifespan: float = field(metadata={\"units\":\"years\"})\n",
    "    habitat: str\n",
    "    diet: str\n",
    "    geo_range: str\n",
    "    image_link: str\n",
    "    id_: int\n",
    "    \n",
    "@dataclass    \n",
    "class Fish:\n",
    "    name: str\n",
    "    latin_name: str\n",
    "    active_time: str\n",
    "    length_min: float = field(metadata={\"units\":\"feet\"})\n",
    "    length_max: float = field(metadata={\"units\":\"feet\"})\n",
    "    weight_min: float = field(metadata={\"units\":\"lbs\"})\n",
    "    weight_max: float = field(metadata={\"units\":\"lbs\"})\n",
    "    lifespan: float = field(metadata={\"units\":\"years\"})\n",
    "    habitat: str\n",
    "    diet: str\n",
    "    geo_range: str\n",
    "    image_link: str\n",
    "    id_: int"
   ]
  },
  {
   "cell_type": "markdown",
   "id": "1e156a18-e7e2-478e-ba43-75bd1b38e323",
   "metadata": {},
   "source": [
    "#### Create Instances of Classes"
   ]
  },
  {
   "cell_type": "code",
   "execution_count": 4,
   "id": "be989045-6bf1-4433-ae15-80d81a058d6b",
   "metadata": {},
   "outputs": [
    {
     "name": "stdout",
     "output_type": "stream",
     "text": [
      "\n",
      "Possibly have got most of the animals\n",
      "It took 53 rounds.\n",
      "We found 187 animals\n"
     ]
    }
   ],
   "source": [
    "# Set url for API call\n",
    "path = 'https://zoo-animal-api.herokuapp.com/animals/rand/10'\n",
    "\n",
    "# Create Class Dictionary for concise Instance Creations\n",
    "class_dictionary = {\n",
    "    'Amphibian': Amphibian,\n",
    "    'Bird': Bird,\n",
    "    'Marsupial': Marsupial,\n",
    "    'Mammal': Mammal,\n",
    "    'Reptile': Reptile,\n",
    "    'Fish': Fish\n",
    "}\n",
    "\n",
    "# Create list to store instances\n",
    "object_list = []\n",
    "\n",
    "# Get a list of all classes in dictionary\n",
    "# Possibly unnecessary as the same could be achieved using the actual dictionary\n",
    "animal_classes = [_ for _ in class_dictionary.keys()]\n",
    "\n",
    "# Create a list to store the ids of found animals so that we don't repeat objects\n",
    "animal_ids = []\n",
    "\n",
    "# start a counter that will be used to determine if we can break the api call loop early\n",
    "cntr = 0\n",
    "\n",
    "# Create a loop for 100 (99 in reality) calls to the api due to limit of how many \n",
    "# objects can be returned in each call.\n",
    "for iteration in range(100):\n",
    "    \n",
    "    # Get the json response from the API\n",
    "    data = requests.get(path).json()\n",
    "    \n",
    "    # Check to see if the call loop can be broken early\n",
    "    if cntr > 30:\n",
    "        print('\\nPossibly have got most of the animals')\n",
    "        print(f'It took {iteration} rounds.')\n",
    "        print(f'We found {len(object_list)} animals')\n",
    "        break\n",
    "        \n",
    "    # Check each returned item for the information that we need\n",
    "    for item in data:\n",
    "        \n",
    "        # Get a list of all the keys in the item that we want to use\n",
    "        interest_list = [_ for _ in item.keys() if _ != 'animal_type']\n",
    "        \n",
    "        # Get a list of all the aspects of the item that we want to use\n",
    "        animal = [item[key] for key in interest_list]\n",
    "        \n",
    "        # Check if we already have the animal\n",
    "        if item['id'] not in animal_ids:\n",
    "            \n",
    "            # Create an instance of the animal and add it to the object list\n",
    "            try:\n",
    "                object_list.append(class_dictionary[item['animal_type']](*animal))\n",
    "            except:\n",
    "                # If the animal type is not in our classes then the attempt to add it will fail\n",
    "                if item['animal_type'] not in animal_classes:\n",
    "                    print(f\"It looks like we do not have {item['animal_type']} yet\")\n",
    "                else:\n",
    "                    print(\"Not really sure what happened here. Let me ponder this for a while...\")\n",
    "                    print('Starting infinite loop...')\n",
    "            \n",
    "            # Add the id of the animal to our list of found animals so that we don't add it again\n",
    "            animal_ids.append(item['id'])\n",
    "            cntr = 0\n",
    "        else:            \n",
    "            # Advance the cntr if the animal is already in the data \n",
    "            # (this helps to determine how frequently all of the random animals have already been added)\n",
    "            cntr += 1"
   ]
  },
  {
   "cell_type": "code",
   "execution_count": 5,
   "id": "4270f05d-affc-4887-9d0e-1bebcc8ba7e8",
   "metadata": {},
   "outputs": [],
   "source": [
    "# for animal in object_list:\n",
    "#     print(animal)"
   ]
  },
  {
   "cell_type": "code",
   "execution_count": 6,
   "id": "e338f977-f640-4554-9acc-eec433f50dee",
   "metadata": {},
   "outputs": [
    {
     "name": "stdout",
     "output_type": "stream",
     "text": [
      "name:      ---    Aardvark\n",
      "latin_name:      ---    Orycteropus afer\n",
      "animal_type:      ---    Mammal\n",
      "active_time:      ---    Nocturnal\n",
      "length_min:      ---    3.4\n",
      "length_max:      ---    4.2\n",
      "weight_min:      ---    88\n",
      "weight_max:      ---    143\n",
      "lifespan:      ---    12\n",
      "habitat:      ---    Woodland, scrubland, and grassland\n",
      "diet:      ---    Ants and termites\n",
      "geo_range:      ---    Central and Southern Africa\n",
      "image_link:      ---    https://upload.wikimedia.org/wikipedia/commons/6/67/SanWild17.jpg\n",
      "id:      ---    1\n"
     ]
    }
   ],
   "source": [
    "for item in data[0].keys():\n",
    "    print(f'{item}:      ---    {data[0][item]}')"
   ]
  },
  {
   "cell_type": "code",
   "execution_count": 7,
   "id": "61e5ea70-5c88-4a44-adfd-f8311d683eae",
   "metadata": {},
   "outputs": [
    {
     "name": "stdout",
     "output_type": "stream",
     "text": [
      "name: int\n",
      "latin_name: int\n",
      "animal_type: int\n",
      "active_time: int\n",
      "length_min: int\n",
      "length_max: int\n",
      "weight_min: int\n",
      "weight_max: int\n",
      "lifespan: int\n",
      "habitat: int\n",
      "diet: int\n",
      "geo_range: int\n",
      "image_link: int\n",
      "id: int\n"
     ]
    }
   ],
   "source": [
    "for st in \"\"\"name\n",
    "latin_name\n",
    "animal_type\n",
    "active_time\n",
    "length_min\n",
    "length_max\n",
    "weight_min\n",
    "weight_max\n",
    "lifespan\n",
    "habitat\n",
    "diet\n",
    "geo_range\n",
    "image_link\n",
    "id\"\"\".split(\"\\n\"):\n",
    "    print(f'{st}: int')"
   ]
  },
  {
   "cell_type": "code",
   "execution_count": null,
   "id": "c53e4842-3b4f-46ef-977c-73e333ec8e76",
   "metadata": {},
   "outputs": [],
   "source": []
  }
 ],
 "metadata": {
  "kernelspec": {
   "display_name": "Python 3 (ipykernel)",
   "language": "python",
   "name": "python3"
  },
  "language_info": {
   "codemirror_mode": {
    "name": "ipython",
    "version": 3
   },
   "file_extension": ".py",
   "mimetype": "text/x-python",
   "name": "python",
   "nbconvert_exporter": "python",
   "pygments_lexer": "ipython3",
   "version": "3.9.7"
  }
 },
 "nbformat": 4,
 "nbformat_minor": 5
}
